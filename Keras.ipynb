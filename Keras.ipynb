{
 "cells": [
  {
   "cell_type": "code",
   "execution_count": 1,
   "metadata": {},
   "outputs": [],
   "source": [
    "import tensorflow as tf\n",
    "from tensorflow.keras import layers"
   ]
  },
  {
   "cell_type": "code",
   "execution_count": 2,
   "metadata": {},
   "outputs": [
    {
     "name": "stdout",
     "output_type": "stream",
     "text": [
      "1.12.0\n",
      "2.1.6-tf\n"
     ]
    }
   ],
   "source": [
    "print(tf.VERSION)\n",
    "print(tf.keras.__version__)"
   ]
  },
  {
   "cell_type": "code",
   "execution_count": 3,
   "metadata": {},
   "outputs": [],
   "source": [
    "model = tf.keras.Sequential()\n",
    "\n",
    "model.add(layers.Dense(64, activation='relu'))\n",
    "\n",
    "model.add(layers.Dense(64, activation='relu'))\n",
    "\n",
    "model.add(layers.Dense(10, activation='softmax'))"
   ]
  },
  {
   "cell_type": "markdown",
   "metadata": {},
   "source": [
    "Ahora vamos a configurar las capas "
   ]
  },
  {
   "cell_type": "markdown",
   "metadata": {},
   "source": [
    "activation: Configurar la función de activación de la capa. Este parámetro se especifíca mediante el nombre de una función incorporada o como un objeto que se puede llamar"
   ]
  },
  {
   "cell_type": "markdown",
   "metadata": {},
   "source": [
    "Kernel_initializer y bias_initializer: Los esquemas de inicialización que crean los pesos de la capa (kernel y bias). "
   ]
  },
  {
   "cell_type": "markdown",
   "metadata": {},
   "source": [
    "kernel_regularizer y bias_regularizer: Los esquemas de regularización que aplican los pesos de la capa (kernel y bias), como la regularización L1 o L2."
   ]
  },
  {
   "cell_type": "code",
   "execution_count": 7,
   "metadata": {},
   "outputs": [
    {
     "data": {
      "text/plain": [
       "<tensorflow.python.keras.layers.core.Dense at 0x7fb6545ecd30>"
      ]
     },
     "execution_count": 7,
     "metadata": {},
     "output_type": "execute_result"
    }
   ],
   "source": [
    "layers.Dense(64, activation='sigmoid')\n",
    "\n",
    "layers.Dense(64, kernel_regularizer=tf.keras.regularizers.l1(0.01))\n",
    "\n",
    "layers.Dense(64, bias_regularizer=tf.keras.regularizers.l2(0.01))\n",
    "\n",
    "layers.Dense(64, kernel_initializer='orthogonal')\n",
    "\n",
    "layers.Dense(64, bias_regularizer=tf.keras.initializers.constant(2.0))\n"
   ]
  },
  {
   "cell_type": "markdown",
   "metadata": {},
   "source": [
    "Entrenar y evaluar"
   ]
  },
  {
   "cell_type": "code",
   "execution_count": 8,
   "metadata": {},
   "outputs": [],
   "source": [
    "model = tf.keras.Sequential([\n",
    "    \n",
    "    layers.Dense(64, activation='relu'),\n",
    "    \n",
    "    layers.Dense(64, activation='relu'),\n",
    "    \n",
    "    layers.Dense(10, activation='softmax')\n",
    "])\n",
    "\n",
    "model.compile(optimizer=tf.train.AdamOptimizer(0.001),\n",
    "             loss='categorical_crossentropy',\n",
    "             metrics=['accuracy'])"
   ]
  },
  {
   "cell_type": "markdown",
   "metadata": {},
   "source": [
    "optimizer: Este objeto especifica el procedimiento de entrenamiento.\n",
    "tf.train.AdamOptimizer \n",
    "tf.train.RMSPropOptimizer tf.train.GradientDescentOptimizer."
   ]
  },
  {
   "cell_type": "markdown",
   "metadata": {},
   "source": [
    "loss: La función para minimizar durante la optimización. Las opciones comunes inclyen error cuadrático medio (mse)\n",
    "categorical_crossentropy\n",
    "binary_crossentropy"
   ]
  },
  {
   "cell_type": "markdown",
   "metadata": {},
   "source": [
    "metrics: Se utiliza para monitorear el entrenamiento. Estos nombres de cadenas del módulo tf.keras.metrics"
   ]
  },
  {
   "cell_type": "code",
   "execution_count": 9,
   "metadata": {},
   "outputs": [],
   "source": [
    "model.compile(optimizer=tf.train.AdamOptimizer(0.01),\n",
    "             loss='mse',\n",
    "             metrics=['mae'])\n",
    "\n",
    "model.compile(optimizer=tf.train.RMSPropOptimizer(0.01),\n",
    "             loss=tf.keras.losses.categorical_crossentropy,\n",
    "             metrics=[tf.keras.metrics.categorical_accuracy])"
   ]
  },
  {
   "cell_type": "code",
   "execution_count": 12,
   "metadata": {},
   "outputs": [
    {
     "name": "stdout",
     "output_type": "stream",
     "text": [
      "Epoch 1/10\n",
      "1000/1000 [==============================] - 0s 245us/step - loss: 11.5237 - categorical_accuracy: 0.1090\n",
      "Epoch 2/10\n",
      "1000/1000 [==============================] - 0s 43us/step - loss: 11.4741 - categorical_accuracy: 0.0920\n",
      "Epoch 3/10\n",
      "1000/1000 [==============================] - 0s 46us/step - loss: 11.4589 - categorical_accuracy: 0.1030\n",
      "Epoch 4/10\n",
      "1000/1000 [==============================] - 0s 42us/step - loss: 11.4558 - categorical_accuracy: 0.0990\n",
      "Epoch 5/10\n",
      "1000/1000 [==============================] - 0s 43us/step - loss: 11.4517 - categorical_accuracy: 0.1040\n",
      "Epoch 6/10\n",
      "1000/1000 [==============================] - 0s 46us/step - loss: 11.4532 - categorical_accuracy: 0.0980\n",
      "Epoch 7/10\n",
      "1000/1000 [==============================] - 0s 43us/step - loss: 11.4507 - categorical_accuracy: 0.1250\n",
      "Epoch 8/10\n",
      "1000/1000 [==============================] - 0s 45us/step - loss: 11.4483 - categorical_accuracy: 0.1180\n",
      "Epoch 9/10\n",
      "1000/1000 [==============================] - 0s 45us/step - loss: 11.4476 - categorical_accuracy: 0.1190\n",
      "Epoch 10/10\n",
      "1000/1000 [==============================] - 0s 43us/step - loss: 11.4456 - categorical_accuracy: 0.1130\n"
     ]
    },
    {
     "data": {
      "text/plain": [
       "<tensorflow.python.keras.callbacks.History at 0x7fb653d57438>"
      ]
     },
     "execution_count": 12,
     "metadata": {},
     "output_type": "execute_result"
    }
   ],
   "source": [
    "import numpy as np\n",
    "\n",
    "data = np.random.random((1000, 32))\n",
    "labels = np.random.random((1000, 10))\n",
    "\n",
    "model.fit(data, labels, epochs=10, batch_size=32)"
   ]
  },
  {
   "cell_type": "markdown",
   "metadata": {},
   "source": [
    "tk.keras.Model.fit puede tomar tres argumentos:\n",
    "\n",
    "epochs: El entrenamiento se estructura en épocas. Una época es una interacción sobre todos los datos de entrada\n",
    "\n",
    "batch_size: Al pasar los datos Numpy, el modelo divide los datos en modelos más pequeños y los repite en lotes durante el entrenamiento.\n",
    "Ese número especifica el tamaño del lote.\n",
    "\n",
    "validation_data: Al crear un prototipo de un modelo, desea supervidar su rendimiento en algunos datos de validación. "
   ]
  }
 ],
 "metadata": {
  "kernelspec": {
   "display_name": "Python 3",
   "language": "python",
   "name": "python3"
  },
  "language_info": {
   "codemirror_mode": {
    "name": "ipython",
    "version": 3
   },
   "file_extension": ".py",
   "mimetype": "text/x-python",
   "name": "python",
   "nbconvert_exporter": "python",
   "pygments_lexer": "ipython3",
   "version": "3.6.7"
  }
 },
 "nbformat": 4,
 "nbformat_minor": 2
}
